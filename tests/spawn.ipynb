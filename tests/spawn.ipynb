{
 "cells": [
  {
   "cell_type": "code",
   "execution_count": 2,
   "metadata": {},
   "outputs": [
    {
     "name": "stdout",
     "output_type": "stream",
     "text": [
      "Requirement already satisfied: panda-gym in /home/saitama/anaconda3/envs/sb3/lib/python3.13/site-packages (3.0.7)\n",
      "Requirement already satisfied: gymnasium>=0.26 in /home/saitama/anaconda3/envs/sb3/lib/python3.13/site-packages (from panda-gym) (1.0.0)\n",
      "Requirement already satisfied: pybullet in /home/saitama/anaconda3/envs/sb3/lib/python3.13/site-packages (from panda-gym) (3.2.7)\n",
      "Requirement already satisfied: numpy in /home/saitama/anaconda3/envs/sb3/lib/python3.13/site-packages (from panda-gym) (1.26.4)\n",
      "Requirement already satisfied: scipy in /home/saitama/anaconda3/envs/sb3/lib/python3.13/site-packages (from panda-gym) (1.15.2)\n",
      "Requirement already satisfied: cloudpickle>=1.2.0 in /home/saitama/anaconda3/envs/sb3/lib/python3.13/site-packages (from gymnasium>=0.26->panda-gym) (3.1.0)\n",
      "Requirement already satisfied: typing-extensions>=4.3.0 in /home/saitama/anaconda3/envs/sb3/lib/python3.13/site-packages (from gymnasium>=0.26->panda-gym) (4.12.2)\n",
      "Requirement already satisfied: farama-notifications>=0.0.1 in /home/saitama/anaconda3/envs/sb3/lib/python3.13/site-packages (from gymnasium>=0.26->panda-gym) (0.0.4)\n"
     ]
    }
   ],
   "source": [
    "!pip install panda-gym"
   ]
  },
  {
   "cell_type": "code",
   "execution_count": 3,
   "metadata": {},
   "outputs": [
    {
     "name": "stderr",
     "output_type": "stream",
     "text": [
      "pybullet build time: Feb 25 2025 00:45:24\n"
     ]
    },
    {
     "name": "stdout",
     "output_type": "stream",
     "text": [
      "argv[0]=--background_color_red=0.8745098114013672\n",
      "argv[1]=--background_color_green=0.21176470816135406\n",
      "argv[2]=--background_color_blue=0.1764705926179886\n",
      "startThreads creating 1 threads.\n",
      "starting thread 0\n",
      "started thread 0 \n",
      "argc=5\n",
      "argv[0] = --unused\n",
      "argv[1] = --background_color_red=0.8745098114013672\n",
      "argv[2] = --background_color_green=0.21176470816135406\n",
      "argv[3] = --background_color_blue=0.1764705926179886\n",
      "argv[4] = --start_demo_name=Physics Server\n",
      "ExampleBrowserThreadFunc started\n",
      "X11 functions dynamically loaded using dlopen/dlsym OK!\n",
      "X11 functions dynamically loaded using dlopen/dlsym OK!\n",
      "Creating context\n",
      "Created GL 3.3 context\n",
      "Direct GLX rendering context obtained\n",
      "Making context current\n",
      "GL_VENDOR=NVIDIA Corporation\n",
      "GL_RENDERER=NVIDIA GeForce RTX 4070 Laptop GPU/PCIe/SSE2\n",
      "GL_VERSION=3.3.0 NVIDIA 550.120\n",
      "GL_SHADING_LANGUAGE_VERSION=3.30 NVIDIA via Cg compiler\n",
      "pthread_getconcurrency()=0\n",
      "Version = 3.3.0 NVIDIA 550.120\n",
      "Vendor = NVIDIA Corporation\n",
      "Renderer = NVIDIA GeForce RTX 4070 Laptop GPU/PCIe/SSE2\n",
      "b3Printf: Selected demo: Physics Server\n",
      "startThreads creating 1 threads.\n",
      "starting thread 0\n",
      "started thread 0 \n",
      "MotionThreadFunc thread started\n",
      "ven = NVIDIA Corporation\n",
      "ven = NVIDIA Corporation\n"
     ]
    }
   ],
   "source": [
    "import gymnasium as gym\n",
    "import panda_gym\n",
    "\n",
    "env = gym.make('PandaReach-v3', render_mode=\"human\")\n",
    "\n",
    "observation, info = env.reset()\n",
    "\n",
    "for _ in range(1000):\n",
    "    action = env.action_space.sample() # random action\n",
    "    observation, reward, terminated, truncated, info = env.step(action)\n",
    "\n",
    "    if terminated or truncated:\n",
    "        observation, info = env.reset()"
   ]
  },
  {
   "cell_type": "code",
   "execution_count": 4,
   "metadata": {},
   "outputs": [
    {
     "name": "stdout",
     "output_type": "stream",
     "text": [
      "numActiveThreads = 0\n",
      "stopping threads\n",
      "Thread with taskId 0 exiting\n",
      "Thread TERMINATED\n",
      "destroy semaphore\n",
      "semaphore destroyed\n",
      "destroy main semaphore\n",
      "main semaphore destroyed\n",
      "finished\n",
      "numActiveThreads = 0\n",
      "btShutDownExampleBrowser stopping threads\n",
      "Thread with taskId 0 exiting\n",
      "Thread TERMINATED\n",
      "destroy semaphore\n",
      "semaphore destroyed\n",
      "destroy main semaphore\n",
      "main semaphore destroyed\n"
     ]
    }
   ],
   "source": [
    "env.close()"
   ]
  },
  {
   "cell_type": "code",
   "execution_count": 5,
   "metadata": {},
   "outputs": [
    {
     "name": "stdout",
     "output_type": "stream",
     "text": [
      "argv[0]=--background_color_red=0.8745098114013672\n",
      "argv[1]=--background_color_green=0.21176470816135406\n",
      "argv[2]=--background_color_blue=0.1764705926179886\n",
      "startThreads creating 1 threads.\n",
      "starting thread 0\n",
      "started thread 0 \n",
      "argc=5\n",
      "argv[0] = --unused\n",
      "argv[1] = --background_color_red=0.8745098114013672\n",
      "argv[2] = --background_color_green=0.21176470816135406\n",
      "argv[3] = --background_color_blue=0.1764705926179886\n",
      "argv[4] = --start_demo_name=Physics Server\n",
      "ExampleBrowserThreadFunc started\n",
      "X11 functions dynamically loaded using dlopen/dlsym OK!\n",
      "X11 functions dynamically loaded using dlopen/dlsym OK!\n",
      "Creating context\n",
      "Created GL 3.3 context\n",
      "Direct GLX rendering context obtained\n",
      "Making context current\n",
      "GL_VENDOR=NVIDIA Corporation\n",
      "GL_RENDERER=NVIDIA GeForce RTX 4070 Laptop GPU/PCIe/SSE2\n",
      "GL_VERSION=3.3.0 NVIDIA 550.120\n",
      "GL_SHADING_LANGUAGE_VERSION=3.30 NVIDIA via Cg compiler\n",
      "pthread_getconcurrency()=0\n",
      "Version = 3.3.0 NVIDIA 550.120\n",
      "Vendor = NVIDIA Corporation\n",
      "Renderer = NVIDIA GeForce RTX 4070 Laptop GPU/PCIe/SSE2\n",
      "b3Printf: Selected demo: Physics Server\n",
      "startThreads creating 1 threads.\n",
      "starting thread 0\n",
      "started thread 0 \n",
      "MotionThreadFunc thread started\n",
      "ven = NVIDIA Corporation\n",
      "ven = NVIDIA Corporation\n",
      "numActiveThreads = 0\n",
      "stopping threads\n",
      "Thread with taskId 0 exiting\n",
      "destroy semaphore\n",
      "semaphore destroyed\n",
      "Thread TERMINATED\n",
      "destroy main semaphore\n",
      "main semaphore destroyed\n",
      "finished\n",
      "numActiveThreads = 0\n",
      "btShutDownExampleBrowser stopping threads\n",
      "Thread with taskId 0 exiting\n",
      "Thread TERMINATED\n",
      "destroy semaphore\n",
      "semaphore destroyed\n",
      "destroy main semaphore\n",
      "main semaphore destroyed\n"
     ]
    }
   ],
   "source": [
    "import gymnasium as gym\n",
    "import panda_gym\n",
    "\n",
    "env = gym.make(\"PandaReach-v3\", render_mode=\"human\")\n",
    "observation, info = env.reset()\n",
    "\n",
    "for _ in range(1000):\n",
    "    current_position = observation[\"observation\"][0:3]\n",
    "    desired_position = observation[\"desired_goal\"][0:3]\n",
    "    action = 5.0 * (desired_position - current_position)\n",
    "    observation, reward, terminated, truncated, info = env.step(action)\n",
    "\n",
    "    if terminated or truncated:\n",
    "        observation, info = env.reset()\n",
    "\n",
    "env.close()"
   ]
  },
  {
   "cell_type": "code",
   "execution_count": 6,
   "metadata": {},
   "outputs": [
    {
     "name": "stdout",
     "output_type": "stream",
     "text": [
      "Requirement already satisfied: keyboard in /home/saitama/anaconda3/envs/sb3/lib/python3.13/site-packages (0.13.5)\n"
     ]
    }
   ],
   "source": [
    "!pip install keyboard"
   ]
  },
  {
   "cell_type": "code",
   "execution_count": 7,
   "metadata": {},
   "outputs": [
    {
     "name": "stdout",
     "output_type": "stream",
     "text": [
      "argv[0]=--background_color_red=0.8745098114013672\n",
      "argv[1]=--background_color_green=0.21176470816135406\n",
      "argv[2]=--background_color_blue=0.1764705926179886\n",
      "startThreads creating 1 threads.\n",
      "starting thread 0\n",
      "started thread 0 \n",
      "argc=5\n",
      "argv[0] = --unused\n",
      "argv[1] = --background_color_red=0.8745098114013672\n",
      "argv[2] = --background_color_green=0.21176470816135406\n",
      "argv[3] = --background_color_blue=0.1764705926179886\n",
      "argv[4] = --start_demo_name=Physics Server\n",
      "ExampleBrowserThreadFunc started\n",
      "X11 functions dynamically loaded using dlopen/dlsym OK!\n",
      "X11 functions dynamically loaded using dlopen/dlsym OK!\n",
      "Creating context\n",
      "Created GL 3.3 context\n",
      "Direct GLX rendering context obtained\n",
      "Making context current\n",
      "GL_VENDOR=NVIDIA Corporation\n",
      "GL_RENDERER=NVIDIA GeForce RTX 4070 Laptop GPU/PCIe/SSE2\n",
      "GL_VERSION=3.3.0 NVIDIA 550.120\n",
      "GL_SHADING_LANGUAGE_VERSION=3.30 NVIDIA via Cg compiler\n",
      "pthread_getconcurrency()=0\n",
      "Version = 3.3.0 NVIDIA 550.120\n",
      "Vendor = NVIDIA Corporation\n",
      "Renderer = NVIDIA GeForce RTX 4070 Laptop GPU/PCIe/SSE2\n",
      "b3Printf: Selected demo: Physics Server\n",
      "startThreads creating 1 threads.\n",
      "starting thread 0\n",
      "started thread 0 \n",
      "MotionThreadFunc thread started\n",
      "ven = NVIDIA Corporation\n",
      "ven = NVIDIA Corporation\n"
     ]
    }
   ],
   "source": [
    "env = gym.make(\"PandaReach-v3\", render_mode=\"human\")\n",
    "observation, info = env.reset()"
   ]
  },
  {
   "cell_type": "code",
   "execution_count": 8,
   "metadata": {},
   "outputs": [
    {
     "name": "stdout",
     "output_type": "stream",
     "text": [
      "numActiveThreads = 0\n",
      "stopping threads\n",
      "Thread with taskId 0 exiting\n",
      "Thread TERMINATED\n",
      "destroy semaphore\n",
      "semaphore destroyed\n",
      "destroy main semaphore\n",
      "main semaphore destroyed\n",
      "finished\n",
      "numActiveThreads = 0\n",
      "btShutDownExampleBrowser stopping threads\n",
      "Thread with taskId 0 exiting\n",
      "Thread TERMINATED\n",
      "destroy semaphore\n",
      "semaphore destroyed\n",
      "destroy main semaphore\n",
      "main semaphore destroyed\n"
     ]
    }
   ],
   "source": [
    "env.close()"
   ]
  },
  {
   "cell_type": "code",
   "execution_count": 10,
   "metadata": {},
   "outputs": [
    {
     "ename": "AttributeError",
     "evalue": "'PandaReachEnv' object has no attribute 'physics_client_id'",
     "output_type": "error",
     "traceback": [
      "\u001b[0;31m---------------------------------------------------------------------------\u001b[0m",
      "\u001b[0;31mAttributeError\u001b[0m                            Traceback (most recent call last)",
      "Cell \u001b[0;32mIn[10], line 1\u001b[0m\n\u001b[0;32m----> 1\u001b[0m physics_client_id \u001b[38;5;241m=\u001b[39m \u001b[43menv\u001b[49m\u001b[38;5;241;43m.\u001b[39;49m\u001b[43munwrapped\u001b[49m\u001b[38;5;241;43m.\u001b[39;49m\u001b[43mphysics_client_id\u001b[49m\n\u001b[1;32m      2\u001b[0m panda_urdf_path \u001b[38;5;241m=\u001b[39m panda_gym\u001b[38;5;241m.\u001b[39mutils\u001b[38;5;241m.\u001b[39murdf\u001b[38;5;241m.\u001b[39mpanda_arm_hand_urdf_path\n\u001b[1;32m      3\u001b[0m robot_id \u001b[38;5;241m=\u001b[39m env\u001b[38;5;241m.\u001b[39munwrapped\u001b[38;5;241m.\u001b[39mrobot_id\n",
      "\u001b[0;31mAttributeError\u001b[0m: 'PandaReachEnv' object has no attribute 'physics_client_id'"
     ]
    }
   ],
   "source": [
    "physics_client_id = env.unwrapped.physics_client_id\n",
    "panda_urdf_path = panda_gym.utils.urdf.panda_arm_hand_urdf_path\n",
    "robot_id = env.unwrapped.robot_id\n",
    "panda_end_effector_link_index = 7"
   ]
  },
  {
   "cell_type": "code",
   "execution_count": 13,
   "metadata": {},
   "outputs": [
    {
     "ename": "error",
     "evalue": "Only one local in-process GUI/GUI_SERVER connection allowed. Use DIRECT connection mode or start a separate GUI physics server (ExampleBrowser, App_SharedMemoryPhysics_GUI, App_SharedMemoryPhysics_VR) and connect over SHARED_MEMORY, UDP or TCP instead.",
     "output_type": "error",
     "traceback": [
      "\u001b[0;31m---------------------------------------------------------------------------\u001b[0m",
      "\u001b[0;31merror\u001b[0m                                     Traceback (most recent call last)",
      "Cell \u001b[0;32mIn[13], line 1\u001b[0m\n\u001b[0;32m----> 1\u001b[0m env \u001b[38;5;241m=\u001b[39m \u001b[43mgym\u001b[49m\u001b[38;5;241;43m.\u001b[39;49m\u001b[43mmake\u001b[49m\u001b[43m(\u001b[49m\u001b[38;5;124;43m\"\u001b[39;49m\u001b[38;5;124;43mPandaReach-v3\u001b[39;49m\u001b[38;5;124;43m\"\u001b[39;49m\u001b[43m,\u001b[49m\u001b[43m \u001b[49m\u001b[43mrender_mode\u001b[49m\u001b[38;5;241;43m=\u001b[39;49m\u001b[38;5;124;43m\"\u001b[39;49m\u001b[38;5;124;43mhuman\u001b[39;49m\u001b[38;5;124;43m\"\u001b[39;49m\u001b[43m)\u001b[49m\n\u001b[1;32m      2\u001b[0m observation, info \u001b[38;5;241m=\u001b[39m env\u001b[38;5;241m.\u001b[39mreset()\n\u001b[1;32m      4\u001b[0m \u001b[38;5;28mprint\u001b[39m(\u001b[38;5;124m\"\u001b[39m\u001b[38;5;124m--- dir(env.unwrapped) ---\u001b[39m\u001b[38;5;124m\"\u001b[39m)\n",
      "File \u001b[0;32m~/anaconda3/envs/sb3/lib/python3.13/site-packages/gymnasium/envs/registration.py:740\u001b[0m, in \u001b[0;36mmake\u001b[0;34m(id, max_episode_steps, disable_env_checker, **kwargs)\u001b[0m\n\u001b[1;32m    734\u001b[0m         logger\u001b[38;5;241m.\u001b[39mwarn(\n\u001b[1;32m    735\u001b[0m             \u001b[38;5;124mf\u001b[39m\u001b[38;5;124m\"\u001b[39m\u001b[38;5;124mThe environment is being initialised with render_mode=\u001b[39m\u001b[38;5;132;01m{\u001b[39;00mrender_mode\u001b[38;5;132;01m!r}\u001b[39;00m\u001b[38;5;124m \u001b[39m\u001b[38;5;124m\"\u001b[39m\n\u001b[1;32m    736\u001b[0m             \u001b[38;5;124mf\u001b[39m\u001b[38;5;124m\"\u001b[39m\u001b[38;5;124mthat is not in the possible render_modes (\u001b[39m\u001b[38;5;132;01m{\u001b[39;00mrender_modes\u001b[38;5;132;01m}\u001b[39;00m\u001b[38;5;124m).\u001b[39m\u001b[38;5;124m\"\u001b[39m\n\u001b[1;32m    737\u001b[0m         )\n\u001b[1;32m    739\u001b[0m \u001b[38;5;28;01mtry\u001b[39;00m:\n\u001b[0;32m--> 740\u001b[0m     env \u001b[38;5;241m=\u001b[39m \u001b[43menv_creator\u001b[49m\u001b[43m(\u001b[49m\u001b[38;5;241;43m*\u001b[39;49m\u001b[38;5;241;43m*\u001b[39;49m\u001b[43menv_spec_kwargs\u001b[49m\u001b[43m)\u001b[49m\n\u001b[1;32m    741\u001b[0m \u001b[38;5;28;01mexcept\u001b[39;00m \u001b[38;5;167;01mTypeError\u001b[39;00m \u001b[38;5;28;01mas\u001b[39;00m e:\n\u001b[1;32m    742\u001b[0m     \u001b[38;5;28;01mif\u001b[39;00m (\n\u001b[1;32m    743\u001b[0m         \u001b[38;5;28mstr\u001b[39m(e)\u001b[38;5;241m.\u001b[39mfind(\u001b[38;5;124m\"\u001b[39m\u001b[38;5;124mgot an unexpected keyword argument \u001b[39m\u001b[38;5;124m'\u001b[39m\u001b[38;5;124mrender_mode\u001b[39m\u001b[38;5;124m'\u001b[39m\u001b[38;5;124m\"\u001b[39m) \u001b[38;5;241m>\u001b[39m\u001b[38;5;241m=\u001b[39m \u001b[38;5;241m0\u001b[39m\n\u001b[1;32m    744\u001b[0m         \u001b[38;5;129;01mand\u001b[39;00m apply_human_rendering\n\u001b[1;32m    745\u001b[0m     ):\n",
      "File \u001b[0;32m~/anaconda3/envs/sb3/lib/python3.13/site-packages/panda_gym/envs/panda_tasks.py:201\u001b[0m, in \u001b[0;36mPandaReachEnv.__init__\u001b[0;34m(self, render_mode, reward_type, control_type, renderer, render_width, render_height, render_target_position, render_distance, render_yaw, render_pitch, render_roll)\u001b[0m\n\u001b[1;32m    187\u001b[0m \u001b[38;5;28;01mdef\u001b[39;00m\u001b[38;5;250m \u001b[39m\u001b[38;5;21m__init__\u001b[39m(\n\u001b[1;32m    188\u001b[0m     \u001b[38;5;28mself\u001b[39m,\n\u001b[1;32m    189\u001b[0m     render_mode: \u001b[38;5;28mstr\u001b[39m \u001b[38;5;241m=\u001b[39m \u001b[38;5;124m\"\u001b[39m\u001b[38;5;124mrgb_array\u001b[39m\u001b[38;5;124m\"\u001b[39m,\n\u001b[0;32m   (...)\u001b[0m\n\u001b[1;32m    199\u001b[0m     render_roll: \u001b[38;5;28mfloat\u001b[39m \u001b[38;5;241m=\u001b[39m \u001b[38;5;241m0\u001b[39m,\n\u001b[1;32m    200\u001b[0m ) \u001b[38;5;241m-\u001b[39m\u001b[38;5;241m>\u001b[39m \u001b[38;5;28;01mNone\u001b[39;00m:\n\u001b[0;32m--> 201\u001b[0m     sim \u001b[38;5;241m=\u001b[39m \u001b[43mPyBullet\u001b[49m\u001b[43m(\u001b[49m\u001b[43mrender_mode\u001b[49m\u001b[38;5;241;43m=\u001b[39;49m\u001b[43mrender_mode\u001b[49m\u001b[43m,\u001b[49m\u001b[43m \u001b[49m\u001b[43mrenderer\u001b[49m\u001b[38;5;241;43m=\u001b[39;49m\u001b[43mrenderer\u001b[49m\u001b[43m)\u001b[49m\n\u001b[1;32m    202\u001b[0m     robot \u001b[38;5;241m=\u001b[39m Panda(sim, block_gripper\u001b[38;5;241m=\u001b[39m\u001b[38;5;28;01mTrue\u001b[39;00m, base_position\u001b[38;5;241m=\u001b[39mnp\u001b[38;5;241m.\u001b[39marray([\u001b[38;5;241m-\u001b[39m\u001b[38;5;241m0.6\u001b[39m, \u001b[38;5;241m0.0\u001b[39m, \u001b[38;5;241m0.0\u001b[39m]), control_type\u001b[38;5;241m=\u001b[39mcontrol_type)\n\u001b[1;32m    203\u001b[0m     task \u001b[38;5;241m=\u001b[39m Reach(sim, reward_type\u001b[38;5;241m=\u001b[39mreward_type, get_ee_position\u001b[38;5;241m=\u001b[39mrobot\u001b[38;5;241m.\u001b[39mget_ee_position)\n",
      "File \u001b[0;32m~/anaconda3/envs/sb3/lib/python3.13/site-packages/panda_gym/pybullet.py:49\u001b[0m, in \u001b[0;36mPyBullet.__init__\u001b[0;34m(self, render_mode, n_substeps, background_color, renderer)\u001b[0m\n\u001b[1;32m     47\u001b[0m \u001b[38;5;28;01melse\u001b[39;00m:\n\u001b[1;32m     48\u001b[0m     \u001b[38;5;28;01mraise\u001b[39;00m \u001b[38;5;167;01mValueError\u001b[39;00m(\u001b[38;5;124m\"\u001b[39m\u001b[38;5;124mThe \u001b[39m\u001b[38;5;124m'\u001b[39m\u001b[38;5;124mrender\u001b[39m\u001b[38;5;124m'\u001b[39m\u001b[38;5;124m argument is must be in \u001b[39m\u001b[38;5;124m{\u001b[39m\u001b[38;5;124m'\u001b[39m\u001b[38;5;124mrgb_array\u001b[39m\u001b[38;5;124m'\u001b[39m\u001b[38;5;124m, \u001b[39m\u001b[38;5;124m'\u001b[39m\u001b[38;5;124mhuman\u001b[39m\u001b[38;5;124m'\u001b[39m\u001b[38;5;124m}\u001b[39m\u001b[38;5;124m\"\u001b[39m)\n\u001b[0;32m---> 49\u001b[0m \u001b[38;5;28mself\u001b[39m\u001b[38;5;241m.\u001b[39mphysics_client \u001b[38;5;241m=\u001b[39m \u001b[43mbc\u001b[49m\u001b[38;5;241;43m.\u001b[39;49m\u001b[43mBulletClient\u001b[49m\u001b[43m(\u001b[49m\u001b[43mconnection_mode\u001b[49m\u001b[38;5;241;43m=\u001b[39;49m\u001b[38;5;28;43mself\u001b[39;49m\u001b[38;5;241;43m.\u001b[39;49m\u001b[43mconnection_mode\u001b[49m\u001b[43m,\u001b[49m\u001b[43m \u001b[49m\u001b[43moptions\u001b[49m\u001b[38;5;241;43m=\u001b[39;49m\u001b[43moptions\u001b[49m\u001b[43m)\u001b[49m\n\u001b[1;32m     50\u001b[0m \u001b[38;5;28mself\u001b[39m\u001b[38;5;241m.\u001b[39mphysics_client\u001b[38;5;241m.\u001b[39mconfigureDebugVisualizer(p\u001b[38;5;241m.\u001b[39mCOV_ENABLE_GUI, \u001b[38;5;241m0\u001b[39m)\n\u001b[1;32m     51\u001b[0m \u001b[38;5;28mself\u001b[39m\u001b[38;5;241m.\u001b[39mphysics_client\u001b[38;5;241m.\u001b[39mconfigureDebugVisualizer(p\u001b[38;5;241m.\u001b[39mCOV_ENABLE_MOUSE_PICKING, \u001b[38;5;241m0\u001b[39m)\n",
      "File \u001b[0;32m~/anaconda3/envs/sb3/lib/python3.13/site-packages/pybullet_utils/bullet_client.py:33\u001b[0m, in \u001b[0;36mBulletClient.__init__\u001b[0;34m(self, connection_mode, hostName, options)\u001b[0m\n\u001b[1;32m     31\u001b[0m     connection_mode \u001b[38;5;241m=\u001b[39m pybullet\u001b[38;5;241m.\u001b[39mDIRECT\n\u001b[1;32m     32\u001b[0m \u001b[38;5;28;01mif\u001b[39;00m hostName \u001b[38;5;129;01mis\u001b[39;00m \u001b[38;5;28;01mNone\u001b[39;00m:\n\u001b[0;32m---> 33\u001b[0m     \u001b[38;5;28mself\u001b[39m\u001b[38;5;241m.\u001b[39m_client \u001b[38;5;241m=\u001b[39m \u001b[43mpybullet\u001b[49m\u001b[38;5;241;43m.\u001b[39;49m\u001b[43mconnect\u001b[49m\u001b[43m(\u001b[49m\u001b[43mconnection_mode\u001b[49m\u001b[43m,\u001b[49m\u001b[43m \u001b[49m\u001b[43moptions\u001b[49m\u001b[38;5;241;43m=\u001b[39;49m\u001b[43moptions\u001b[49m\u001b[43m)\u001b[49m\n\u001b[1;32m     34\u001b[0m \u001b[38;5;28;01melse\u001b[39;00m:\n\u001b[1;32m     35\u001b[0m     \u001b[38;5;28mself\u001b[39m\u001b[38;5;241m.\u001b[39m_client \u001b[38;5;241m=\u001b[39m pybullet\u001b[38;5;241m.\u001b[39mconnect(connection_mode, hostName\u001b[38;5;241m=\u001b[39mhostName, options\u001b[38;5;241m=\u001b[39moptions)\n",
      "\u001b[0;31merror\u001b[0m: Only one local in-process GUI/GUI_SERVER connection allowed. Use DIRECT connection mode or start a separate GUI physics server (ExampleBrowser, App_SharedMemoryPhysics_GUI, App_SharedMemoryPhysics_VR) and connect over SHARED_MEMORY, UDP or TCP instead."
     ]
    },
    {
     "ename": "",
     "evalue": "",
     "output_type": "error",
     "traceback": [
      "\u001b[1;31mThe Kernel crashed while executing code in the current cell or a previous cell. \n",
      "\u001b[1;31mPlease review the code in the cell(s) to identify a possible cause of the failure. \n",
      "\u001b[1;31mClick <a href='https://aka.ms/vscodeJupyterKernelCrash'>here</a> for more info. \n",
      "\u001b[1;31mView Jupyter <a href='command:jupyter.viewOutput'>log</a> for further details."
     ]
    }
   ],
   "source": [
    "env = gym.make(\"PandaReach-v3\", render_mode=\"human\")\n",
    "observation, info = env.reset()\n",
    "\n",
    "print(\"--- dir(env.unwrapped) ---\")\n",
    "print(dir(env.unwrapped))\n",
    "print(\"\\n--- vars(env.unwrapped) ---\")\n",
    "print(vars(env.unwrapped))\n",
    "\n",
    "env.close()"
   ]
  },
  {
   "cell_type": "code",
   "execution_count": 9,
   "metadata": {},
   "outputs": [
    {
     "name": "stdout",
     "output_type": "stream",
     "text": [
      "argv[0]=--background_color_red=0.8745098114013672\n",
      "argv[1]=--background_color_green=0.21176470816135406\n",
      "argv[2]=--background_color_blue=0.1764705926179886\n",
      "startThreads creating 1 threads.\n",
      "starting thread 0\n",
      "started thread 0 \n",
      "argc=5\n",
      "argv[0] = --unused\n",
      "argv[1] = --background_color_red=0.8745098114013672\n",
      "argv[2] = --background_color_green=0.21176470816135406\n",
      "argv[3] = --background_color_blue=0.1764705926179886\n",
      "argv[4] = --start_demo_name=Physics Server\n",
      "ExampleBrowserThreadFunc started\n",
      "X11 functions dynamically loaded using dlopen/dlsym OK!\n",
      "X11 functions dynamically loaded using dlopen/dlsym OK!\n",
      "Creating context\n",
      "Created GL 3.3 context\n",
      "Direct GLX rendering context obtained\n",
      "Making context current\n",
      "GL_VENDOR=NVIDIA Corporation\n",
      "GL_RENDERER=NVIDIA GeForce RTX 4070 Laptop GPU/PCIe/SSE2\n",
      "GL_VERSION=3.3.0 NVIDIA 550.120\n",
      "GL_SHADING_LANGUAGE_VERSION=3.30 NVIDIA via Cg compiler\n",
      "pthread_getconcurrency()=0\n",
      "Version = 3.3.0 NVIDIA 550.120\n",
      "Vendor = NVIDIA Corporation\n",
      "Renderer = NVIDIA GeForce RTX 4070 Laptop GPU/PCIe/SSE2\n",
      "b3Printf: Selected demo: Physics Server\n",
      "startThreads creating 1 threads.\n",
      "starting thread 0\n",
      "started thread 0 \n",
      "MotionThreadFunc thread started\n",
      "ven = NVIDIA Corporation\n",
      "ven = NVIDIA Corporation\n"
     ]
    },
    {
     "ename": "AttributeError",
     "evalue": "'PandaReachEnv' object has no attribute 'physics_client_id'",
     "output_type": "error",
     "traceback": [
      "\u001b[0;31m---------------------------------------------------------------------------\u001b[0m",
      "\u001b[0;31mAttributeError\u001b[0m                            Traceback (most recent call last)",
      "Cell \u001b[0;32mIn[9], line 11\u001b[0m\n\u001b[1;32m      8\u001b[0m observation, info \u001b[38;5;241m=\u001b[39m env\u001b[38;5;241m.\u001b[39mreset()\n\u001b[1;32m     10\u001b[0m \u001b[38;5;66;03m# --- Setup PyBullet directly to use IK ---\u001b[39;00m\n\u001b[0;32m---> 11\u001b[0m physics_client_id \u001b[38;5;241m=\u001b[39m \u001b[43menv\u001b[49m\u001b[38;5;241;43m.\u001b[39;49m\u001b[43munwrapped\u001b[49m\u001b[38;5;241;43m.\u001b[39;49m\u001b[43mphysics_client_id\u001b[49m \u001b[38;5;66;03m# Get pybullet client id from gym env\u001b[39;00m\n\u001b[1;32m     12\u001b[0m panda_urdf_path \u001b[38;5;241m=\u001b[39m panda_gym\u001b[38;5;241m.\u001b[39mutils\u001b[38;5;241m.\u001b[39murdf\u001b[38;5;241m.\u001b[39mpanda_arm_hand_urdf_path \u001b[38;5;66;03m# Path to panda URDF\u001b[39;00m\n\u001b[1;32m     13\u001b[0m robot_id \u001b[38;5;241m=\u001b[39m env\u001b[38;5;241m.\u001b[39munwrapped\u001b[38;5;241m.\u001b[39mrobot_id \u001b[38;5;66;03m# Get robot id from gym env\u001b[39;00m\n",
      "\u001b[0;31mAttributeError\u001b[0m: 'PandaReachEnv' object has no attribute 'physics_client_id'"
     ]
    }
   ],
   "source": [
    "import gymnasium as gym\n",
    "import panda_gym\n",
    "import keyboard  # For keyboard input\n",
    "import numpy as np\n",
    "import pybullet as p  # Import pybullet directly for IK\n",
    "\n",
    "env = gym.make(\"PandaReach-v3\", render_mode=\"human\")\n",
    "observation, info = env.reset()\n",
    "\n",
    "# --- Setup PyBullet directly to use IK ---\n",
    "physics_client_id = env.unwrapped.physics_client_id # Get pybullet client id from gym env\n",
    "panda_urdf_path = panda_gym.utils.urdf.panda_arm_hand_urdf_path # Path to panda URDF\n",
    "robot_id = env.unwrapped.robot_id # Get robot id from gym env\n",
    "panda_end_effector_link_index = 7  # Link index for the Panda end-effector (fingertip)\n",
    "\n",
    "# --- Control parameters ---\n",
    "step_size = 0.01  # How much to move the end-effector per key press\n",
    "action_multiplier = 0.1 # Scale actions to avoid jerky movements\n",
    "joint_damping = [0.1] * 7 # Damping for joint control, helps with stability\n",
    "lower_limits = env.action_space.low\n",
    "upper_limits = env.action_space.high\n",
    "joint_ranges = upper_limits - lower_limits\n",
    "\n",
    "target_position = observation[\"observation\"][0:3].copy() # Initialize target position with current position\n",
    "\n",
    "def get_joint_positions_ik(target_pos, current_joint_positions):\n",
    "    \"\"\"Calculates joint positions using Inverse Kinematics (IK).\"\"\"\n",
    "    joint_poses = p.calculateInverseKinematics(\n",
    "        bodyUniqueId=robot_id,\n",
    "        endEffectorLinkIndex=panda_end_effector_link_index,\n",
    "        targetPosition=target_pos,\n",
    "        physicsClientId=physics_client_id,\n",
    "        lowerLimits=lower_limits,\n",
    "        upperLimits=upper_limits,\n",
    "        jointRanges=joint_ranges,\n",
    "        restPoses=current_joint_positions # Important for starting IK from current state\n",
    "    )\n",
    "    return np.array(joint_poses[:7]) # Take only the first 7 joints (arm joints)\n",
    "\n",
    "\n",
    "print(\"Keyboard controls:\")\n",
    "print(\"  W/S: Move end-effector up/down (Z-axis)\")\n",
    "print(\"  A/D: Move end-effector left/right (X-axis)\")\n",
    "print(\"  Q/E: Move end-effector forward/backward (Y-axis)\")\n",
    "print(\"  R: Reset environment\")\n",
    "print(\"  ESC: Exit\")\n",
    "\n",
    "while True:\n",
    "    current_position = observation[\"observation\"][0:3]\n",
    "\n",
    "    # --- Keyboard Control ---\n",
    "    if keyboard.is_pressed('w'):\n",
    "        target_position[2] += step_size  # Move up (Z+)\n",
    "    if keyboard.is_pressed('s'):\n",
    "        target_position[2] -= step_size  # Move down (Z-)\n",
    "    if keyboard.is_pressed('a'):\n",
    "        target_position[0] -= step_size  # Move left (X-)\n",
    "    if keyboard.is_pressed('d'):\n",
    "        target_position[0] += step_size  # Move right (X+)\n",
    "    if keyboard.is_pressed('q'):\n",
    "        target_position[1] += step_size  # Move forward (Y+)\n",
    "    if keyboard.is_pressed('e'):\n",
    "        target_position[1] -= step_size  # Move backward (Y-)\n",
    "    if keyboard.is_pressed('r'):\n",
    "        observation, info = env.reset()\n",
    "        target_position = observation[\"observation\"][0:3].copy() # Reset target position too\n",
    "        print(\"Environment reset.\")\n",
    "        continue # Skip the step if reset\n",
    "\n",
    "    if keyboard.is_pressed('esc'):\n",
    "        print(\"Exiting.\")\n",
    "        break\n",
    "\n",
    "    # --- Inverse Kinematics and Action ---\n",
    "    current_joint_positions = observation[\"observation\"][:7] # Get current joint positions\n",
    "    target_joint_positions = get_joint_positions_ik(target_position, current_joint_positions)\n",
    "\n",
    "    # Use position control (target joint positions) directly as action\n",
    "    action = target_joint_positions\n",
    "\n",
    "    observation, reward, terminated, truncated, info = env.step(action)\n",
    "\n",
    "    if terminated or truncated:\n",
    "        observation, info = env.reset()\n",
    "        target_position = observation[\"observation\"][0:3].copy() # Reset target position too\n",
    "        print(\"Environment episode ended, resetting.\")\n",
    "\n",
    "env.close()"
   ]
  }
 ],
 "metadata": {
  "kernelspec": {
   "display_name": "sb3",
   "language": "python",
   "name": "python3"
  },
  "language_info": {
   "codemirror_mode": {
    "name": "ipython",
    "version": 3
   },
   "file_extension": ".py",
   "mimetype": "text/x-python",
   "name": "python",
   "nbconvert_exporter": "python",
   "pygments_lexer": "ipython3",
   "version": "3.13.1"
  }
 },
 "nbformat": 4,
 "nbformat_minor": 2
}
